{
 "cells": [
  {
   "cell_type": "markdown",
   "metadata": {},
   "source": [
    "## ANEXO 1: Limpieza y organización del DataFrame"
   ]
  },
  {
   "cell_type": "code",
   "execution_count": null,
   "metadata": {},
   "outputs": [],
   "source": [
    "import numpy as np\n",
    "import pandas as pd\n",
    "import geopandas\n",
    "import matplotlib.pyplot as plt"
   ]
  },
  {
   "cell_type": "markdown",
   "metadata": {},
   "source": [
    "### Carga inicial"
   ]
  },
  {
   "cell_type": "code",
   "execution_count": null,
   "metadata": {},
   "outputs": [],
   "source": [
    "# cargar dataframe principal\n",
    "df_personas = pd.read_csv(r\"..\\data\\personas\\Microdato_Censo2017-Personas.csv\", delimiter=\";\")"
   ]
  },
  {
   "cell_type": "code",
   "execution_count": null,
   "metadata": {},
   "outputs": [],
   "source": [
    "# filtrar por mujeres entre 16 y 50 años, que tengan datos de escolaridad\n",
    "df_full = df_personas[\n",
    "    (df_personas[\"P08\"]==2) &\n",
    "    (df_personas[\"P09\"] >= 16) &\n",
    "    (df_personas[\"P09\"] <= 50) &\n",
    "    (df_personas[\"ESCOLARIDAD\"] < 98)\n",
    "]"
   ]
  },
  {
   "cell_type": "code",
   "execution_count": null,
   "metadata": {},
   "outputs": [
    {
     "data": {
      "text/plain": [
       "Index(['REGION', 'PROVINCIA', 'COMUNA', 'DC', 'AREA', 'ZC_LOC', 'ID_ZONA_LOC',\n",
       "       'NVIV', 'NHOGAR', 'PERSONAN', 'P07', 'P08', 'P09', 'P10', 'P10COMUNA',\n",
       "       'P10PAIS', 'P11', 'P11COMUNA', 'P11PAIS', 'P12', 'P12COMUNA', 'P12PAIS',\n",
       "       'P12A_LLEGADA', 'P12A_TRAMO', 'P13', 'P14', 'P15', 'P15A', 'P16',\n",
       "       'P16A', 'P16A_OTRO', 'P17', 'P18', 'P19', 'P20', 'P21M', 'P21A',\n",
       "       'P10PAIS_GRUPO', 'P11PAIS_GRUPO', 'P12PAIS_GRUPO', 'ESCOLARIDAD',\n",
       "       'P16A_GRUPO', 'REGION_15R', 'PROVINCIA_15R', 'COMUNA_15R',\n",
       "       'P10COMUNA_15R', 'P11COMUNA_15R', 'P12COMUNA_15R'],\n",
       "      dtype='object')"
      ]
     },
     "metadata": {},
     "output_type": "display_data"
    }
   ],
   "source": [
    "df_full.columns"
   ]
  },
  {
   "cell_type": "markdown",
   "metadata": {},
   "source": [
    "### Importar información geográfica extra"
   ]
  },
  {
   "cell_type": "code",
   "execution_count": null,
   "metadata": {},
   "outputs": [],
   "source": [
    "gdf = geopandas.read_file(r\"..\\data\\geografia_extra\\Distrito_Densid_Superficie.shp\")\n",
    "\n",
    "centroids = gdf.centroid\n",
    "gdf[\"CENTROIDE_X_DIST\"] = centroids.x\n",
    "gdf[\"CENTROIDE_Y_DIST\"] = centroids.y"
   ]
  },
  {
   "cell_type": "code",
   "execution_count": null,
   "metadata": {},
   "outputs": [],
   "source": [
    "gdf[\"T_POB\"] = gdf[\"T_POB\"].astype(int)\n",
    "gdf[\"COMUNA\"] = gdf[\"COMUNA\"].astype(int)\n",
    "gdf = gdf[[\n",
    "    \"COMUNA\", \"COD_DISTRI\",\n",
    "    \"T_POB\", \"SUPERFICIE\", \"Densidad\",\n",
    "    \"CENTROIDE_X_DIST\", \"CENTROIDE_Y_DIST\"\n",
    "]].rename(columns={\n",
    "    \"T_POB\": \"POBLACION_DIST\",\n",
    "    \"SUPERFICIE\": \"SUPERFICIE_DIST\",\n",
    "    \"Densidad\": \"DENSIDAD_DIST\"\n",
    "})"
   ]
  },
  {
   "cell_type": "code",
   "execution_count": null,
   "metadata": {},
   "outputs": [
    {
     "data": {
      "text/plain": [
       "<matplotlib.collections.PathCollection at 0x24fa1120410>"
      ]
     },
     "metadata": {},
     "output_type": "display_data"
    },
    {
     "data": {
      "image/png": "[encoded data removed]",
      "text/plain": [
       "<Figure size 640x480 with 1 Axes>"
      ]
     },
     "metadata": {},
     "output_type": "display_data"
    }
   ],
   "source": [
    "# verificar buena carga de la información\n",
    "plt.scatter(gdf[\"CENTROIDE_X_DIST\"], gdf[\"CENTROIDE_Y_DIST\"], s=0.5)"
   ]
  },
  {
   "cell_type": "code",
   "execution_count": null,
   "metadata": {},
   "outputs": [],
   "source": [
    "# unimos con dataframe completo (se eliminan las filas que no tienen\n",
    "# distrito asociado, pero son solamente 18000 aprox)\n",
    "df_full = df_full.merge(\n",
    "    gdf, how=\"inner\",\n",
    "    left_on=[\"COMUNA\", \"DC\"],\n",
    "    right_on=[\"COMUNA\", \"COD_DISTRI\"],\n",
    "    suffixes=(\"\", \"_g\")\n",
    ")"
   ]
  },
  {
   "cell_type": "markdown",
   "metadata": {},
   "source": [
    "### Identificadores geográficos y llaves"
   ]
  },
  {
   "cell_type": "code",
   "execution_count": null,
   "metadata": {},
   "outputs": [],
   "source": [
    "# IDENTIFICADORES GEOGRÁFICOS\n",
    "\n",
    "regiones = pd.read_csv(r\"..\\data\\geografia\\microdato_censo2017-regiones.csv\", delimiter=\";\")\n",
    "df_full[\"REGION\"] = df_full.merge(regiones, how=\"inner\", on=\"REGION\", suffixes=(\"\", \"_2\"))[\"NOM_REGION\"]\n",
    "\n",
    "# - eliminamos provincia, id_zona (es información muy específica y se tienen las\n",
    "#   coordenadas que realizan una labor similar)\n",
    "# - mantenemos:\n",
    "#   - region (es información utilizable en el EDA)\n",
    "#   - comuna, distrito y zona (sirven para formar una llave)\n",
    "df_full.drop(columns=[\"PROVINCIA\", \"ID_ZONA_LOC\"], inplace=True)\n",
    "\n",
    "df_full[\"AREA\"] = df_full[\"AREA\"].replace(to_replace={2: 0})\n",
    "\n",
    "# LLAVES\n",
    "df_full.rename(columns={\n",
    "  \"DC\": \"DISTRITO\",\n",
    "  \"ZC_LOC\": \"ZONA\",\n",
    "  \"AREA\": \"ES_URBANO\",\n",
    "  \"NVIV\": \"N_VIVIENDA\",\n",
    "  \"NHOGAR\": \"N_HOGAR\",\n",
    "  \"PERSONAN\": \"N_PERSONA\"\n",
    "}, inplace=True)"
   ]
  },
  {
   "cell_type": "markdown",
   "metadata": {},
   "source": [
    "### Persona, residencia y proveniencia"
   ]
  },
  {
   "cell_type": "code",
   "execution_count": null,
   "metadata": {},
   "outputs": [],
   "source": [
    "# PERSONA\n",
    "\n",
    "p07 = pd.read_csv(r\"..\\data\\personas\\etiquetas_persona_p07.csv\", delimiter=\";\")\n",
    "df_full[\"P07\"] = df_full.merge(p07, how=\"inner\", left_on=\"P07\", right_on=\"valor\", suffixes=(\"\", \"_2\"))[\"glosa\"]\n",
    "\n",
    "df_full[\"P16\"] = df_full[\"P16\"].replace(to_replace={2: 0, 98: 0, 99: 0})\n",
    "\n",
    "p16_grupo = pd.read_csv(r\"..\\data\\personas\\etiquetas_persona_p16a_grupo.csv\", delimiter=\";\")\n",
    "df_full[\"P16A_GRUPO\"] = df_full.merge(p16_grupo, how=\"inner\", left_on=\"P16A_GRUPO\", right_on=\"valor\", suffixes=(\"\", \"_2\"))[\"glosa\"]\n",
    "\n",
    "# eliminamos:\n",
    "# - sexo (son todas mujeres)\n",
    "# - pueblo originario (solo nos quedamos con grupos, los otros son muy específicos)\n",
    "df_full.drop(columns=[\"P08\", \"P16A\", \"P16A_OTRO\"], inplace=True)\n",
    "\n",
    "df_full.rename(columns={\n",
    "  \"P07\": \"PARENTESCO\",\n",
    "  \"P09\": \"EDAD\",\n",
    "  \"P16\": \"ES_ORIGINARIO\",\n",
    "  \"P16A_GRUPO\": \"PUEBLO_ORIGINARIO\"\n",
    "}, inplace=True)"
   ]
  },
  {
   "cell_type": "code",
   "execution_count": null,
   "metadata": {},
   "outputs": [],
   "source": [
    "# RESIDENCIA Y PROVENIENCIA\n",
    "\n",
    "p12 = pd.read_csv(r\"..\\data\\personas\\etiquetas_persona_p12.csv\", delimiter=\";\")\n",
    "df_full[\"P12\"] = df_full.merge(p12, how=\"inner\", left_on=\"P12\", right_on=\"valor\", suffixes=(\"\", \"_2\"))[\"glosa\"]\n",
    "\n",
    "p_paises_grupo = pd.read_csv(r\"..\\data\\personas\\etiquetas_persona_pais_grupo.csv\", delimiter=\";\")\n",
    "df_full[\"P12PAIS_GRUPO\"] = df_full.merge(p_paises_grupo, how=\"inner\", left_on=\"P12PAIS_GRUPO\", right_on=\"valor\", suffixes=(\"\", \"_2\"))[\"glosa\"]\n",
    "df_full[\"P12PAIS_GRUPO\"] = df_full[\"P12PAIS_GRUPO\"].replace(\n",
    "  to_replace={\n",
    "    \"País no declarado\": \"No aplica\",\n",
    "    \"Venezuela (República Bolivariana de)\": \"Venezuela\",\n",
    "    \"Bolivia (Estado Plurinacional de)\": \"Bolivia\"\n",
    "  }\n",
    ")\n",
    "\n",
    "# cambiamos años nulos a NaN\n",
    "df_full[\"P12A_LLEGADA\"] = df_full[\"P12A_LLEGADA\"].replace(\n",
    "  to_replace={9998: np.nan, 9999: np.nan}\n",
    ")\n",
    "\n",
    "# eliminamos:\n",
    "# - residencia habitual (no es útil saber que la persona es \"de otra comuna\" sin\n",
    "#   saber cual comuna es, y las comunas no son útiles con solo sus nombres)\n",
    "# - lugar de residencia hace 5 años (el mismo argumento de antes para las comunas,\n",
    "#   y para personas de países distintos se tiene el año de llegada que es mas\n",
    "#   trabajable)\n",
    "# - lugar de nacimiento (se eliminan países y comunas específicas, solo se trabaja\n",
    "#   con los grupos de países que son más directos de analizar)\n",
    "# - tramo de llegada al país (la misma información es entregada por año de llegada)\n",
    "\n",
    "df_full.drop(columns=[\n",
    "  \"P10\", \"P10COMUNA\", \"P10PAIS\", \"P10PAIS_GRUPO\",\n",
    "  \"P11\", \"P11COMUNA\", \"P11PAIS\", \"P11PAIS_GRUPO\",\n",
    "  \"P12COMUNA\", \"P12PAIS\", \"P12A_TRAMO\"\n",
    "], inplace=True)\n",
    "\n",
    "df_full.rename(columns={\n",
    "  \"P12\": \"LUGAR_NAC\",\n",
    "  \"P12PAIS_GRUPO\": \"LUGAR_NAC_PAIS\",\n",
    "  \"P12A_LLEGADA\": \"ANO_LLEGADA\"\n",
    "}, inplace=True)"
   ]
  },
  {
   "cell_type": "markdown",
   "metadata": {},
   "source": [
    "### Educación, trabajo y familia"
   ]
  },
  {
   "cell_type": "code",
   "execution_count": null,
   "metadata": {},
   "outputs": [],
   "source": [
    "# EDUCACIÓN\n",
    "\n",
    "df_full[\"P13\"] = df_full[\"P13\"].replace(to_replace={2: 0, 3: 0, 98: 0, 99: 0})\n",
    "\n",
    "# TRABAJO\n",
    "\n",
    "# indicar si la persona tenía un trabajo en la última semana\n",
    "trabajo_reciente_values = dict.fromkeys([1, 3], 1)\n",
    "trabajo_reciente_values.update(dict.fromkeys([2, 4, 5, 6, 7, 8, 98, 99], 0))\n",
    "df_full[\"P17\"] = df_full[\"P17\"].replace(to_replace=trabajo_reciente_values)\n",
    "\n",
    "\n",
    "# FAMILIA\n",
    "\n",
    "# cambiar año de último hijo a si ha tenido un hijo en el ultimo año (2016 o 2017)\n",
    "df_full[\"P21A\"] = ((df_full[\"P21A\"] == 2016) | (df_full[\"P21A\"] == 2017)).astype(int)\n",
    "\n",
    "# descontar hijos nacidos recientemente del total (para que el modelo de entrenamiento\n",
    "# no tenga conocimiento de las etiquetas)\n",
    "df_full[\"P19\"] = (df_full[\"P19\"] - df_full[\"P21A\"])\n",
    "\n",
    "# asignar 0 hijos a personas que no declararon cantidad\n",
    "df_full[\"P19\"] = df_full[\"P19\"].replace(to_replace={98: 0, 99: 0})\n",
    "\n",
    "p21m = pd.read_csv(r\"..\\data\\personas\\etiquetas_persona_p21m.csv\", delimiter=\";\")\n",
    "df_full[\"P21M\"] = df_full.merge(p21m, how=\"inner\", left_on=\"P21M\", right_on=\"valor\", suffixes=(\"\", \"_2\"))[\"glosa\"]\n",
    "\n",
    "\n",
    "# eliminamos:\n",
    "# - curso y nivel más alto (más directo usar años de escolaridad, que en general\n",
    "#   corresponden bastante bien con nivel de educación)\n",
    "# - rama actividad económica (muy específica)\n",
    "# - mes último hijo (muy específico)\n",
    "# - hijos vivos\n",
    "\n",
    "df_full.drop(columns=[\n",
    "  \"P14\", \"P15\", \"P15A\",\n",
    "  \"P18\", \"P20\", \"P21M\"\n",
    "], inplace=True)\n",
    "\n",
    "df_full.rename(columns={\n",
    "  \"P13\": \"ASISTE_EDUCACION\",\n",
    "  \"P17\": \"TRABAJO_REMUNERADO\",\n",
    "  \"P19\": \"TOTAL_HIJOS\",\n",
    "  \"P21A\": \"HIJO_RECIENTE\",\n",
    "  \"ESCOLARIDAD\": \"ANOS_ESCOLARIDAD\"\n",
    "}, inplace=True)"
   ]
  },
  {
   "cell_type": "markdown",
   "metadata": {},
   "source": [
    "### Cleanup final"
   ]
  },
  {
   "cell_type": "code",
   "execution_count": null,
   "metadata": {},
   "outputs": [],
   "source": [
    "# reemplazar valores nulos en strings por NA\n",
    "df_full.replace(to_replace=dict.fromkeys([\"No Aplica\", \"No aplica\", \"Missing\"], np.nan), inplace=True)\n",
    "\n",
    "# obs: estos nulos serán eliminados al hacer one-hot encoding de las\n",
    "# columnas con strings, y no hay ninguna fila numérica que tenga nulos\n",
    "# (fueron eliminados o reemplazados anteriormente), así se podrán usar\n",
    "# todas las técnicas de ML que se deseen"
   ]
  },
  {
   "cell_type": "code",
   "execution_count": null,
   "metadata": {},
   "outputs": [],
   "source": [
    "# guardar columnas finales en orden correcto\n",
    "df_full = df_full[[\n",
    "  \"COMUNA\", \"DISTRITO\", \"ZONA\",\n",
    "  \"N_VIVIENDA\", \"N_HOGAR\", \"N_PERSONA\",\n",
    "  \"REGION\", \"ES_URBANO\",\n",
    "  \"CENTROIDE_X_DIST\", \"CENTROIDE_Y_DIST\",\n",
    "  \"POBLACION_DIST\", \"SUPERFICIE_DIST\", \"DENSIDAD_DIST\",\n",
    "  \"EDAD\", \"PARENTESCO\",\n",
    "  \"ES_ORIGINARIO\", \"PUEBLO_ORIGINARIO\",\n",
    "  \"LUGAR_NAC\", \"LUGAR_NAC_PAIS\",\n",
    "  \"ASISTE_EDUCACION\", \"ANOS_ESCOLARIDAD\",\n",
    "  \"TRABAJO_REMUNERADO\", \"TOTAL_HIJOS\",\n",
    "  \"HIJO_RECIENTE\"\n",
    "]]"
   ]
  },
  {
   "cell_type": "code",
   "execution_count": null,
   "metadata": {},
   "outputs": [
    {
     "data": {
      "text/plain": [
       "(4370993, 24)"
      ]
     },
     "metadata": {},
     "output_type": "display_data"
    }
   ],
   "source": [
    "df_full.shape"
   ]
  },
  {
   "cell_type": "code",
   "execution_count": null,
   "metadata": {},
   "outputs": [
    {
     "data": {
      "text/plain": [
       "COMUNA                  int64\n",
       "DISTRITO                int64\n",
       "ZONA                    int64\n",
       "N_VIVIENDA              int64\n",
       "N_HOGAR                 int64\n",
       "N_PERSONA               int64\n",
       "REGION                 object\n",
       "ES_URBANO               int64\n",
       "CENTROIDE_X_DIST      float64\n",
       "CENTROIDE_Y_DIST      float64\n",
       "POBLACION_DIST          int32\n",
       "SUPERFICIE_DIST       float64\n",
       "DENSIDAD_DIST         float64\n",
       "EDAD                    int64\n",
       "PARENTESCO             object\n",
       "ES_ORIGINARIO           int64\n",
       "PUEBLO_ORIGINARIO      object\n",
       "LUGAR_NAC              object\n",
       "LUGAR_NAC_PAIS         object\n",
       "ASISTE_EDUCACION        int64\n",
       "ANOS_ESCOLARIDAD        int64\n",
       "TRABAJO_REMUNERADO      int64\n",
       "TOTAL_HIJOS             int64\n",
       "HIJO_RECIENTE           int32\n",
       "dtype: object"
      ]
     },
     "metadata": {},
     "output_type": "display_data"
    }
   ],
   "source": [
    "df_full.dtypes"
   ]
  },
  {
   "cell_type": "code",
   "execution_count": null,
   "metadata": {},
   "outputs": [],
   "source": [
    "df_full.to_pickle(r\"..\\data\\short.pkl\")"
   ]
  }
 ],
 "metadata": {
  "language_info": {
   "name": "python"
  }
 },
 "nbformat": 4,
 "nbformat_minor": 2
}
